{
 "cells": [
  {
   "cell_type": "markdown",
   "metadata": {},
   "source": [
    "# <center> Capstone проект №1 <br> Идентификация пользователей по посещенным веб-страницам\n",
    "<img src='http://i.istockimg.com/file_thumbview_approve/21546327/5/stock-illustration-21546327-identification-de-l-utilisateur.jpg'>\n",
    "\n",
    "# <center>Сравнение алгоритмов классификации\n",
    "\n",
    "\n",
    "**План:**\n",
    "- Часть 1. Сравнение нескольких алгоритмов на сессиях из 10 сайтов\n",
    "- Часть 2. Выбор параметров – длины сессии и ширины окна\n",
    "- Часть 3. Идентификация  конкретного пользователя и кривые обучения\n",
    " "
   ]
  },
  {
   "cell_type": "code",
   "execution_count": 1,
   "metadata": {},
   "outputs": [],
   "source": [
    "# pip install watermark\n",
    "%load_ext watermark"
   ]
  },
  {
   "cell_type": "code",
   "execution_count": 2,
   "metadata": {},
   "outputs": [
    {
     "name": "stdout",
     "output_type": "stream",
     "text": [
      "CPython 3.7.0\n",
      "IPython 6.5.0\n",
      "\n",
      "numpy 1.15.1\n",
      "scipy 1.1.0\n",
      "pandas 0.23.4\n",
      "matplotlib 2.2.3\n",
      "statsmodels 0.9.0\n",
      "sklearn 0.19.2\n",
      "\n",
      "compiler   : MSC v.1912 64 bit (AMD64)\n",
      "system     : Windows\n",
      "release    : 10\n",
      "machine    : AMD64\n",
      "processor  : Intel64 Family 6 Model 142 Stepping 9, GenuineIntel\n",
      "CPU cores  : 4\n",
      "interpreter: 64bit\n",
      "Git hash   :\n"
     ]
    }
   ],
   "source": [
    "%watermark -v -m -p numpy,scipy,pandas,matplotlib,statsmodels,sklearn -g"
   ]
  },
  {
   "cell_type": "code",
   "execution_count": 1,
   "metadata": {},
   "outputs": [],
   "source": [
    "from __future__ import division, print_function\n",
    "# отключим всякие предупреждения Anaconda\n",
    "import warnings\n",
    "warnings.filterwarnings('ignore')\n",
    "from time import time\n",
    "import itertools\n",
    "import os\n",
    "import numpy as np\n",
    "import pandas as pd\n",
    "import seaborn as sns\n",
    "%matplotlib inline\n",
    "from matplotlib import pyplot as plt\n",
    "import pickle\n",
    "from scipy.sparse import csr_matrix\n",
    "from sklearn.model_selection import train_test_split, cross_val_score, StratifiedKFold, GridSearchCV\n",
    "from sklearn.metrics import accuracy_score, f1_score"
   ]
  },
  {
   "cell_type": "code",
   "execution_count": 2,
   "metadata": {},
   "outputs": [],
   "source": [
    "# путь к данным\n",
    "PATH_TO_DATA = 'C:\\\\Users\\\\wild-moray\\\\Desktop\\\\ML\\\\final\\\\pkls'"
   ]
  },
  {
   "cell_type": "markdown",
   "metadata": {},
   "source": [
    "## Часть 1. Сравнение нескольких алгоритмов на сессиях из 10 сайтов"
   ]
  },
  {
   "cell_type": "markdown",
   "metadata": {},
   "source": [
    "**Загрузим сериализованные ранее объекты *X_sparse_10users* и *y_10users*, соответствующие обучающей выборке для 10 пользователей.**"
   ]
  },
  {
   "cell_type": "code",
   "execution_count": 3,
   "metadata": {},
   "outputs": [],
   "source": [
    "with open(os.path.join(PATH_TO_DATA, \n",
    "         'X_sparse_10users.pkl'), 'rb') as X_sparse_10users_pkl:\n",
    "    X_sparse_10users = pickle.load(X_sparse_10users_pkl)\n",
    "with open(os.path.join(PATH_TO_DATA, \n",
    "                       'y_10users.pkl'), 'rb') as y_10users_pkl:\n",
    "    y_10users = pickle.load(y_10users_pkl)"
   ]
  },
  {
   "cell_type": "markdown",
   "metadata": {},
   "source": [
    "**Здесь более 14 тысяч сессий и почти 5 тысяч уникальных посещенных сайтов.**"
   ]
  },
  {
   "cell_type": "code",
   "execution_count": 4,
   "metadata": {},
   "outputs": [],
   "source": [
    "X_sparse_10users=X_sparse_10users.toarray()[:,1:]"
   ]
  },
  {
   "cell_type": "code",
   "execution_count": 16,
   "metadata": {},
   "outputs": [
    {
     "data": {
      "text/plain": [
       "array(['31', '31', '31', ..., '241', '241', '241'], dtype=object)"
      ]
     },
     "execution_count": 16,
     "metadata": {},
     "output_type": "execute_result"
    }
   ],
   "source": [
    "y_10users"
   ]
  },
  {
   "cell_type": "code",
   "execution_count": 4,
   "metadata": {},
   "outputs": [
    {
     "data": {
      "text/plain": [
       "(14061, 4913)"
      ]
     },
     "execution_count": 4,
     "metadata": {},
     "output_type": "execute_result"
    }
   ],
   "source": [
    "X_sparse_10users.shape"
   ]
  },
  {
   "cell_type": "markdown",
   "metadata": {},
   "source": [
    "**Разобьем выборку на 2 части. На одной будем проводить кросс-валидацию, на второй – оценивать модель, обученную после кросс-валидации.**"
   ]
  },
  {
   "cell_type": "code",
   "execution_count": 5,
   "metadata": {},
   "outputs": [],
   "source": [
    "X_train, X_valid, y_train, y_valid = train_test_split(X_sparse_10users, y_10users, \n",
    "                                                      test_size=0.3, \n",
    "                                                     random_state=17, stratify=y_10users)"
   ]
  },
  {
   "cell_type": "markdown",
   "metadata": {},
   "source": [
    "**Зададим заранее тип кросс-валидации: 3-кратная, с перемешиванием, параметр random_state=17 – для воспроизводимости.**"
   ]
  },
  {
   "cell_type": "code",
   "execution_count": 6,
   "metadata": {},
   "outputs": [],
   "source": [
    "skf = StratifiedKFold(n_splits=3, shuffle=True, random_state=17)"
   ]
  },
  {
   "cell_type": "markdown",
   "metadata": {},
   "source": [
    "**Вспомогательная функция для отрисовки кривых валидации после запуска GridSearchCV (или RandomizedCV).**"
   ]
  },
  {
   "cell_type": "code",
   "execution_count": 16,
   "metadata": {},
   "outputs": [],
   "source": [
    "def plot_validation_curves(param_values, grid_cv_results_):\n",
    "    train_mu, train_std = grid_cv_results_['mean_train_score'], grid_cv_results_['std_train_score']\n",
    "    valid_mu, valid_std = grid_cv_results_['mean_test_score'], grid_cv_results_['std_test_score']\n",
    "    train_line = plt.plot(param_values, train_mu, '-', label='train', color='green')\n",
    "    valid_line = plt.plot(param_values, valid_mu, '-', label='test', color='red')\n",
    "    plt.fill_between(param_values, train_mu - train_std, train_mu + train_std, edgecolor='none',\n",
    "                     facecolor=train_line[0].get_color(), alpha=0.2)\n",
    "    plt.fill_between(param_values, valid_mu - valid_std, valid_mu + valid_std, edgecolor='none',\n",
    "                     facecolor=valid_line[0].get_color(), alpha=0.2)\n",
    "    plt.legend()"
   ]
  },
  {
   "cell_type": "markdown",
   "metadata": {},
   "source": [
    "**1. Обучим `KNeighborsClassifier` со 100 ближайшими соседями (остальные параметры по умолчанию, только `n_jobs`=-1 для распараллеливания) и посмотрим на долю правильных ответов на 3-кратной кросс-валидации по выборке `(X_train, y_train)` и отдельно на выборке `(X_valid, y_valid)`.**"
   ]
  },
  {
   "cell_type": "code",
   "execution_count": 20,
   "metadata": {},
   "outputs": [],
   "source": [
    "from sklearn.neighbors import KNeighborsClassifier"
   ]
  },
  {
   "cell_type": "code",
   "execution_count": 49,
   "metadata": {},
   "outputs": [],
   "source": [
    "knn = KNeighborsClassifier(n_neighbors=100,n_jobs=-1)"
   ]
  },
  {
   "cell_type": "code",
   "execution_count": 50,
   "metadata": {},
   "outputs": [
    {
     "data": {
      "text/plain": [
       "KNeighborsClassifier(algorithm='auto', leaf_size=30, metric='minkowski',\n",
       "           metric_params=None, n_jobs=-1, n_neighbors=100, p=2,\n",
       "           weights='uniform')"
      ]
     },
     "execution_count": 50,
     "metadata": {},
     "output_type": "execute_result"
    }
   ],
   "source": [
    "knn.fit(X_train,y_train)"
   ]
  },
  {
   "cell_type": "code",
   "execution_count": 51,
   "metadata": {},
   "outputs": [],
   "source": [
    "pred=knn.predict(X_valid)"
   ]
  },
  {
   "cell_type": "code",
   "execution_count": 52,
   "metadata": {},
   "outputs": [
    {
     "data": {
      "text/plain": [
       "0.58"
      ]
     },
     "execution_count": 52,
     "metadata": {},
     "output_type": "execute_result"
    }
   ],
   "source": [
    "round(accuracy_score(pred,y_valid),3)"
   ]
  },
  {
   "cell_type": "code",
   "execution_count": 68,
   "metadata": {},
   "outputs": [],
   "source": [
    "cross_val=cross_val_score(X=X_train,y=y_train,cv=skf,estimator=knn,scoring='accuracy')"
   ]
  },
  {
   "cell_type": "code",
   "execution_count": 69,
   "metadata": {},
   "outputs": [
    {
     "data": {
      "text/plain": [
       "0.557"
      ]
     },
     "execution_count": 69,
     "metadata": {},
     "output_type": "execute_result"
    }
   ],
   "source": [
    "round(cross_val.mean(),3)"
   ]
  },
  {
   "cell_type": "code",
   "execution_count": 57,
   "metadata": {},
   "outputs": [],
   "source": [
    "a=[round(i,3) for i in cross_val]"
   ]
  },
  {
   "cell_type": "code",
   "execution_count": 60,
   "metadata": {},
   "outputs": [
    {
     "data": {
      "text/plain": [
       "0.505"
      ]
     },
     "execution_count": 60,
     "metadata": {},
     "output_type": "execute_result"
    }
   ],
   "source": [
    "np.mean(a)"
   ]
  },
  {
   "cell_type": "markdown",
   "metadata": {},
   "source": [
    "**2. Обучим случайный лес (`RandomForestClassifier`) из 100 деревьев (для воспроизводимости `random_state`=17). Посмотрим на OOB-оценку и на долю правильных ответов на выборке `(X_valid, y_valid)`. Для распараллеливания `n_jobs`=-1.**"
   ]
  },
  {
   "cell_type": "code",
   "execution_count": 61,
   "metadata": {},
   "outputs": [],
   "source": [
    "from sklearn.ensemble import RandomForestClassifier"
   ]
  },
  {
   "cell_type": "code",
   "execution_count": 62,
   "metadata": {},
   "outputs": [],
   "source": [
    "forest = RandomForestClassifier(n_estimators=100,n_jobs=-1,random_state=17,oob_score=True)"
   ]
  },
  {
   "cell_type": "code",
   "execution_count": 63,
   "metadata": {},
   "outputs": [
    {
     "data": {
      "text/plain": [
       "RandomForestClassifier(bootstrap=True, class_weight=None, criterion='gini',\n",
       "            max_depth=None, max_features='auto', max_leaf_nodes=None,\n",
       "            min_impurity_decrease=0.0, min_impurity_split=None,\n",
       "            min_samples_leaf=1, min_samples_split=2,\n",
       "            min_weight_fraction_leaf=0.0, n_estimators=100, n_jobs=-1,\n",
       "            oob_score=True, random_state=17, verbose=0, warm_start=False)"
      ]
     },
     "execution_count": 63,
     "metadata": {},
     "output_type": "execute_result"
    }
   ],
   "source": [
    "forest.fit(X_train, y_train)"
   ]
  },
  {
   "cell_type": "code",
   "execution_count": 64,
   "metadata": {},
   "outputs": [],
   "source": [
    "pred_forest=forest.predict(X_valid)"
   ]
  },
  {
   "cell_type": "code",
   "execution_count": 66,
   "metadata": {},
   "outputs": [
    {
     "data": {
      "text/plain": [
       "0.7214996951839057"
      ]
     },
     "execution_count": 66,
     "metadata": {},
     "output_type": "execute_result"
    }
   ],
   "source": [
    "forest.oob_score_"
   ]
  },
  {
   "cell_type": "code",
   "execution_count": 73,
   "metadata": {
    "scrolled": true
   },
   "outputs": [
    {
     "data": {
      "text/plain": [
       "0.725"
      ]
     },
     "execution_count": 73,
     "metadata": {},
     "output_type": "execute_result"
    }
   ],
   "source": [
    "round(accuracy_score(y_valid,pred_forest),3)"
   ]
  },
  {
   "cell_type": "code",
   "execution_count": 70,
   "metadata": {},
   "outputs": [],
   "source": [
    "cross_val_forest=cross_val_score(X=X_train,y=y_train,cv=skf,estimator=forest,scoring='accuracy')"
   ]
  },
  {
   "cell_type": "code",
   "execution_count": 72,
   "metadata": {},
   "outputs": [
    {
     "data": {
      "text/plain": [
       "0.713"
      ]
     },
     "execution_count": 72,
     "metadata": {},
     "output_type": "execute_result"
    }
   ],
   "source": [
    "round(cross_val_forest.mean(),3)"
   ]
  },
  {
   "cell_type": "code",
   "execution_count": null,
   "metadata": {
    "collapsed": true
   },
   "outputs": [],
   "source": [
    "!cat answer4_2.txt"
   ]
  },
  {
   "cell_type": "markdown",
   "metadata": {},
   "source": [
    "**3. Обучим логистическую регрессию (`LogisticRegression`) с параметром `C` по умолчанию и `random_state`=17 (для воспроизводимости). Посмотрим на долю правильных ответов на кросс-валидации и на выборке `(X_valid, y_valid)`. Для распараллеливания `n_jobs=-1`.**"
   ]
  },
  {
   "cell_type": "code",
   "execution_count": 7,
   "metadata": {},
   "outputs": [],
   "source": [
    "from sklearn.linear_model import LogisticRegression, LogisticRegressionCV"
   ]
  },
  {
   "cell_type": "code",
   "execution_count": 75,
   "metadata": {},
   "outputs": [],
   "source": [
    "logit = LogisticRegression(n_jobs=-1,random_state=17)"
   ]
  },
  {
   "cell_type": "code",
   "execution_count": 76,
   "metadata": {},
   "outputs": [
    {
     "data": {
      "text/plain": [
       "LogisticRegression(C=1.0, class_weight=None, dual=False, fit_intercept=True,\n",
       "          intercept_scaling=1, max_iter=100, multi_class='ovr', n_jobs=-1,\n",
       "          penalty='l2', random_state=17, solver='liblinear', tol=0.0001,\n",
       "          verbose=0, warm_start=False)"
      ]
     },
     "execution_count": 76,
     "metadata": {},
     "output_type": "execute_result"
    }
   ],
   "source": [
    "logit.fit(X_train,y_train)"
   ]
  },
  {
   "cell_type": "code",
   "execution_count": 77,
   "metadata": {},
   "outputs": [
    {
     "data": {
      "text/plain": [
       "0.776"
      ]
     },
     "execution_count": 77,
     "metadata": {},
     "output_type": "execute_result"
    }
   ],
   "source": [
    "round(accuracy_score(y_valid,logit.predict(X_valid)),3)"
   ]
  },
  {
   "cell_type": "code",
   "execution_count": 78,
   "metadata": {},
   "outputs": [
    {
     "data": {
      "text/plain": [
       "0.769"
      ]
     },
     "execution_count": 78,
     "metadata": {},
     "output_type": "execute_result"
    }
   ],
   "source": [
    "round(cross_val_score(X=X_train,y=y_train,cv=skf,estimator=logit,scoring='accuracy').mean(),3)"
   ]
  },
  {
   "cell_type": "markdown",
   "metadata": {},
   "source": [
    "**С помощью `LogisticRegressionCV` подберем параметр `C` для `LogisticRegression` сначала в широком диапазоне: 10 значений от 1e-4 до 1e2"
   ]
  },
  {
   "cell_type": "code",
   "execution_count": 8,
   "metadata": {},
   "outputs": [
    {
     "name": "stdout",
     "output_type": "stream",
     "text": [
      "Wall time: 2min 18s\n"
     ]
    }
   ],
   "source": [
    "%%time\n",
    "logit_c_values1 = np.logspace(-4, 2, 10) \n",
    "\n",
    "logit_grid_searcher1 = LogisticRegressionCV(Cs=logit_c_values1,multi_class='multinomial',cv=skf,random_state=17,n_jobs=-1,\n",
    "                                            scoring='accuracy')\n",
    "logit_grid_searcher1.fit(X_train, y_train)"
   ]
  },
  {
   "cell_type": "markdown",
   "metadata": {},
   "source": [
    "Средние значения доли правильных ответов на кросс-валидации по каждому из 10 параметров `C`."
   ]
  },
  {
   "cell_type": "code",
   "execution_count": 10,
   "metadata": {},
   "outputs": [],
   "source": [
    "scores=logit_grid_searcher1.scores_"
   ]
  },
  {
   "cell_type": "code",
   "execution_count": 11,
   "metadata": {},
   "outputs": [],
   "source": [
    "def mean_scor(scores,n):\n",
    "    mean_scores=[]\n",
    "    for i in range(0,n):\n",
    "        temp=[]\n",
    "        for key in scores.keys():\n",
    "            for j in range(len(scores[key])):\n",
    "                temp.append(scores[key][j][i])\n",
    "        mean_scores.append(np.mean(temp))\n",
    "    return mean_scores"
   ]
  },
  {
   "cell_type": "code",
   "execution_count": 12,
   "metadata": {},
   "outputs": [],
   "source": [
    "mean_scores=mean_scor(scores,3)"
   ]
  },
  {
   "cell_type": "code",
   "execution_count": 13,
   "metadata": {},
   "outputs": [
    {
     "data": {
      "text/plain": [
       "array([1.00000000e-04, 4.64158883e-04, 2.15443469e-03, 1.00000000e-02,\n",
       "       4.64158883e-02, 2.15443469e-01, 1.00000000e+00, 4.64158883e+00,\n",
       "       2.15443469e+01, 1.00000000e+02])"
      ]
     },
     "execution_count": 13,
     "metadata": {},
     "output_type": "execute_result"
    }
   ],
   "source": [
    "logit_grid_searcher1.Cs_"
   ]
  },
  {
   "cell_type": "markdown",
   "metadata": {},
   "source": [
    "Лучшее значение доли правильных ответов на кросс-валидации и соответствующее значение `C`."
   ]
  },
  {
   "cell_type": "code",
   "execution_count": 14,
   "metadata": {},
   "outputs": [
    {
     "data": {
      "text/plain": [
       "{0.0001: 0.30847502708115615,\n",
       " 0.00046415888336127773: 0.4722647748401496,\n",
       " 0.002154434690031882: 0.553955189639828}"
      ]
     },
     "execution_count": 14,
     "metadata": {},
     "output_type": "execute_result"
    }
   ],
   "source": [
    "dict(zip(logit_grid_searcher1.Cs_,mean_scores))"
   ]
  },
  {
   "cell_type": "code",
   "execution_count": 19,
   "metadata": {},
   "outputs": [
    {
     "data": {
      "text/plain": [
       "{'100': array([[0.30624049, 0.46757991, 0.5500761 , 0.64748858, 0.71902588,\n",
       "         0.75342466, 0.76651446, 0.76073059, 0.75342466, 0.74581431],\n",
       "        [0.31290027, 0.47514486, 0.55413236, 0.65599268, 0.71729186,\n",
       "         0.75083867, 0.76303751, 0.7621226 , 0.75846295, 0.7462641 ],\n",
       "        [0.30628432, 0.47406955, 0.55765711, 0.65863331, 0.7266626 ,\n",
       "         0.76662599, 0.77120195, 0.77425259, 0.76723612, 0.75442343]]),\n",
       " '127': array([[0.30624049, 0.46757991, 0.5500761 , 0.64748858, 0.71902588,\n",
       "         0.75342466, 0.76651446, 0.76073059, 0.75342466, 0.74581431],\n",
       "        [0.31290027, 0.47514486, 0.55413236, 0.65599268, 0.71729186,\n",
       "         0.75083867, 0.76303751, 0.7621226 , 0.75846295, 0.7462641 ],\n",
       "        [0.30628432, 0.47406955, 0.55765711, 0.65863331, 0.7266626 ,\n",
       "         0.76662599, 0.77120195, 0.77425259, 0.76723612, 0.75442343]]),\n",
       " '128': array([[0.30624049, 0.46757991, 0.5500761 , 0.64748858, 0.71902588,\n",
       "         0.75342466, 0.76651446, 0.76073059, 0.75342466, 0.74581431],\n",
       "        [0.31290027, 0.47514486, 0.55413236, 0.65599268, 0.71729186,\n",
       "         0.75083867, 0.76303751, 0.7621226 , 0.75846295, 0.7462641 ],\n",
       "        [0.30628432, 0.47406955, 0.55765711, 0.65863331, 0.7266626 ,\n",
       "         0.76662599, 0.77120195, 0.77425259, 0.76723612, 0.75442343]]),\n",
       " '207': array([[0.30624049, 0.46757991, 0.5500761 , 0.64748858, 0.71902588,\n",
       "         0.75342466, 0.76651446, 0.76073059, 0.75342466, 0.74581431],\n",
       "        [0.31290027, 0.47514486, 0.55413236, 0.65599268, 0.71729186,\n",
       "         0.75083867, 0.76303751, 0.7621226 , 0.75846295, 0.7462641 ],\n",
       "        [0.30628432, 0.47406955, 0.55765711, 0.65863331, 0.7266626 ,\n",
       "         0.76662599, 0.77120195, 0.77425259, 0.76723612, 0.75442343]]),\n",
       " '237': array([[0.30624049, 0.46757991, 0.5500761 , 0.64748858, 0.71902588,\n",
       "         0.75342466, 0.76651446, 0.76073059, 0.75342466, 0.74581431],\n",
       "        [0.31290027, 0.47514486, 0.55413236, 0.65599268, 0.71729186,\n",
       "         0.75083867, 0.76303751, 0.7621226 , 0.75846295, 0.7462641 ],\n",
       "        [0.30628432, 0.47406955, 0.55765711, 0.65863331, 0.7266626 ,\n",
       "         0.76662599, 0.77120195, 0.77425259, 0.76723612, 0.75442343]]),\n",
       " '241': array([[0.30624049, 0.46757991, 0.5500761 , 0.64748858, 0.71902588,\n",
       "         0.75342466, 0.76651446, 0.76073059, 0.75342466, 0.74581431],\n",
       "        [0.31290027, 0.47514486, 0.55413236, 0.65599268, 0.71729186,\n",
       "         0.75083867, 0.76303751, 0.7621226 , 0.75846295, 0.7462641 ],\n",
       "        [0.30628432, 0.47406955, 0.55765711, 0.65863331, 0.7266626 ,\n",
       "         0.76662599, 0.77120195, 0.77425259, 0.76723612, 0.75442343]]),\n",
       " '31': array([[0.30624049, 0.46757991, 0.5500761 , 0.64748858, 0.71902588,\n",
       "         0.75342466, 0.76651446, 0.76073059, 0.75342466, 0.74581431],\n",
       "        [0.31290027, 0.47514486, 0.55413236, 0.65599268, 0.71729186,\n",
       "         0.75083867, 0.76303751, 0.7621226 , 0.75846295, 0.7462641 ],\n",
       "        [0.30628432, 0.47406955, 0.55765711, 0.65863331, 0.7266626 ,\n",
       "         0.76662599, 0.77120195, 0.77425259, 0.76723612, 0.75442343]]),\n",
       " '33': array([[0.30624049, 0.46757991, 0.5500761 , 0.64748858, 0.71902588,\n",
       "         0.75342466, 0.76651446, 0.76073059, 0.75342466, 0.74581431],\n",
       "        [0.31290027, 0.47514486, 0.55413236, 0.65599268, 0.71729186,\n",
       "         0.75083867, 0.76303751, 0.7621226 , 0.75846295, 0.7462641 ],\n",
       "        [0.30628432, 0.47406955, 0.55765711, 0.65863331, 0.7266626 ,\n",
       "         0.76662599, 0.77120195, 0.77425259, 0.76723612, 0.75442343]]),\n",
       " '39': array([[0.30624049, 0.46757991, 0.5500761 , 0.64748858, 0.71902588,\n",
       "         0.75342466, 0.76651446, 0.76073059, 0.75342466, 0.74581431],\n",
       "        [0.31290027, 0.47514486, 0.55413236, 0.65599268, 0.71729186,\n",
       "         0.75083867, 0.76303751, 0.7621226 , 0.75846295, 0.7462641 ],\n",
       "        [0.30628432, 0.47406955, 0.55765711, 0.65863331, 0.7266626 ,\n",
       "         0.76662599, 0.77120195, 0.77425259, 0.76723612, 0.75442343]]),\n",
       " '50': array([[0.30624049, 0.46757991, 0.5500761 , 0.64748858, 0.71902588,\n",
       "         0.75342466, 0.76651446, 0.76073059, 0.75342466, 0.74581431],\n",
       "        [0.31290027, 0.47514486, 0.55413236, 0.65599268, 0.71729186,\n",
       "         0.75083867, 0.76303751, 0.7621226 , 0.75846295, 0.7462641 ],\n",
       "        [0.30628432, 0.47406955, 0.55765711, 0.65863331, 0.7266626 ,\n",
       "         0.76662599, 0.77120195, 0.77425259, 0.76723612, 0.75442343]])}"
      ]
     },
     "execution_count": 19,
     "metadata": {},
     "output_type": "execute_result"
    }
   ],
   "source": [
    "logit_grid_searcher1.scores_"
   ]
  },
  {
   "cell_type": "markdown",
   "metadata": {},
   "source": [
    "Теперь то же самое, только значения параметра `C` перебирайте в диапазоне `np.linspace`(0.1, 7, 20)"
   ]
  },
  {
   "cell_type": "code",
   "execution_count": 20,
   "metadata": {},
   "outputs": [
    {
     "name": "stdout",
     "output_type": "stream",
     "text": [
      "Wall time: 6min 5s\n"
     ]
    }
   ],
   "source": [
    "%%time\n",
    "logit_c_values2 = np.linspace(0.1, 7, 20)\n",
    "\n",
    "logit_grid_searcher2 = LogisticRegressionCV(Cs=logit_c_values2,multi_class='multinomial',cv=skf,random_state=17,n_jobs=-1,\n",
    "                                            scoring='accuracy')\n",
    "logit_grid_searcher2.fit(X_train, y_train)"
   ]
  },
  {
   "cell_type": "code",
   "execution_count": 21,
   "metadata": {},
   "outputs": [],
   "source": [
    "scores2=logit_grid_searcher2.scores_"
   ]
  },
  {
   "cell_type": "code",
   "execution_count": 26,
   "metadata": {},
   "outputs": [],
   "source": [
    "c_=logit_grid_searcher2.Cs_[10]"
   ]
  },
  {
   "cell_type": "code",
   "execution_count": 55,
   "metadata": {},
   "outputs": [],
   "source": [
    "mean_scores2=mean_scor(scores2,20)"
   ]
  },
  {
   "cell_type": "code",
   "execution_count": 267,
   "metadata": {},
   "outputs": [
    {
     "data": {
      "text/plain": [
       "[0.7420280325448577,\n",
       " 0.7655972070951058,\n",
       " 0.766816008168599,\n",
       " 0.7676288928927998,\n",
       " 0.7657999326804995,\n",
       " 0.766918438889361,\n",
       " 0.7673253146250677,\n",
       " 0.7673258410343746,\n",
       " 0.7671228983656787,\n",
       " 0.7671227437026763,\n",
       " 0.7670211177053257,\n",
       " 0.76692051311819,\n",
       " 0.7658045451271644,\n",
       " 0.7653977004033582,\n",
       " 0.7656005500363535,\n",
       " 0.7653970503429491,\n",
       " 0.7645840105592465,\n",
       " 0.7646854198697942,\n",
       " 0.7645843198852517,\n",
       " 0.7644821984904941]"
      ]
     },
     "execution_count": 267,
     "metadata": {},
     "output_type": "execute_result"
    }
   ],
   "source": [
    "mean_scores2"
   ]
  },
  {
   "cell_type": "code",
   "execution_count": 56,
   "metadata": {},
   "outputs": [],
   "source": [
    "ces=list(zip(mean_scores2,logit_grid_searcher2.Cs_))"
   ]
  },
  {
   "cell_type": "markdown",
   "metadata": {},
   "source": [
    "Средние значения доли правильных ответов на кросс-валидации по каждому из 10 параметров `C`."
   ]
  },
  {
   "cell_type": "markdown",
   "metadata": {},
   "source": [
    "Выведите лучшее значение доли правильных ответов на кросс-валидации и соответствующее значение `C`."
   ]
  },
  {
   "cell_type": "code",
   "execution_count": 58,
   "metadata": {},
   "outputs": [
    {
     "data": {
      "text/plain": [
       "1.1894736842105265"
      ]
     },
     "execution_count": 58,
     "metadata": {},
     "output_type": "execute_result"
    }
   ],
   "source": [
    "c_best=sorted(ces)[-1][1]\n",
    "c_best"
   ]
  },
  {
   "cell_type": "code",
   "execution_count": 71,
   "metadata": {},
   "outputs": [
    {
     "data": {
      "text/plain": [
       "3.368421052631579"
      ]
     },
     "execution_count": 71,
     "metadata": {},
     "output_type": "execute_result"
    }
   ],
   "source": [
    "c_best_best=logit_grid_searcher2.Cs_[9]\n",
    "c_best_best"
   ]
  },
  {
   "cell_type": "code",
   "execution_count": 287,
   "metadata": {},
   "outputs": [
    {
     "data": {
      "text/plain": [
       "(0.7676288928927998, 1.1894736842105265)"
      ]
     },
     "execution_count": 287,
     "metadata": {},
     "output_type": "execute_result"
    }
   ],
   "source": [
    "sorted(ces)[-1]"
   ]
  },
  {
   "cell_type": "code",
   "execution_count": null,
   "metadata": {
    "collapsed": true
   },
   "outputs": [],
   "source": [
    "plt.plot(logit_c_values2, logit_mean_cv_scores2);"
   ]
  },
  {
   "cell_type": "markdown",
   "metadata": {},
   "source": [
    "Выведите долю правильных ответов на выборке `(X_valid, y_valid)` для логистической регрессии с лучшим найденным значением `C`."
   ]
  },
  {
   "cell_type": "code",
   "execution_count": 279,
   "metadata": {},
   "outputs": [],
   "source": [
    "logit_best = LogisticRegression(n_jobs=-1,random_state=17,C=c_best)"
   ]
  },
  {
   "cell_type": "code",
   "execution_count": 280,
   "metadata": {},
   "outputs": [
    {
     "data": {
      "text/plain": [
       "LogisticRegression(C=1.1894736842105265, class_weight=None, dual=False,\n",
       "          fit_intercept=True, intercept_scaling=1, max_iter=100,\n",
       "          multi_class='ovr', n_jobs=-1, penalty='l2', random_state=17,\n",
       "          solver='liblinear', tol=0.0001, verbose=0, warm_start=False)"
      ]
     },
     "execution_count": 280,
     "metadata": {},
     "output_type": "execute_result"
    }
   ],
   "source": [
    "logit_best.fit(X_train,y_train)"
   ]
  },
  {
   "cell_type": "code",
   "execution_count": 285,
   "metadata": {},
   "outputs": [],
   "source": [
    "cross_val_lbest=cross_val_score(X=X_train,y=y_train,cv=skf,estimator=logit_best,scoring='accuracy')"
   ]
  },
  {
   "cell_type": "code",
   "execution_count": 290,
   "metadata": {},
   "outputs": [
    {
     "data": {
      "text/plain": [
       "0.769"
      ]
     },
     "execution_count": 290,
     "metadata": {},
     "output_type": "execute_result"
    }
   ],
   "source": [
    "round(cross_val_lbest.mean(),3)"
   ]
  },
  {
   "cell_type": "code",
   "execution_count": 288,
   "metadata": {},
   "outputs": [],
   "source": [
    "logit_cv_acc = accuracy_score(y_valid,logit_best.predict(X_valid))"
   ]
  },
  {
   "cell_type": "code",
   "execution_count": 291,
   "metadata": {},
   "outputs": [
    {
     "data": {
      "text/plain": [
       "0.778"
      ]
     },
     "execution_count": 291,
     "metadata": {},
     "output_type": "execute_result"
    }
   ],
   "source": [
    "round(logit_cv_acc,3)"
   ]
  },
  {
   "cell_type": "markdown",
   "metadata": {},
   "source": [
    "**4. Обучим линейный SVM (`LinearSVC`) с параметром `C`=1 и `random_state`=17 (для воспроизводимости). Посмотрим на долю правильных ответов на кросс-валидации и на выборке `(X_valid, y_valid)`.**"
   ]
  },
  {
   "cell_type": "code",
   "execution_count": 292,
   "metadata": {},
   "outputs": [],
   "source": [
    "from sklearn.svm import LinearSVC"
   ]
  },
  {
   "cell_type": "code",
   "execution_count": 293,
   "metadata": {},
   "outputs": [],
   "source": [
    "svm = LinearSVC(C=1,random_state=17)"
   ]
  },
  {
   "cell_type": "code",
   "execution_count": 294,
   "metadata": {},
   "outputs": [
    {
     "data": {
      "text/plain": [
       "LinearSVC(C=1, class_weight=None, dual=True, fit_intercept=True,\n",
       "     intercept_scaling=1, loss='squared_hinge', max_iter=1000,\n",
       "     multi_class='ovr', penalty='l2', random_state=17, tol=0.0001,\n",
       "     verbose=0)"
      ]
     },
     "execution_count": 294,
     "metadata": {},
     "output_type": "execute_result"
    }
   ],
   "source": [
    "svm.fit(X_train,y_train)"
   ]
  },
  {
   "cell_type": "code",
   "execution_count": 295,
   "metadata": {},
   "outputs": [],
   "source": [
    "cross_val_svm=cross_val_score(X=X_train,y=y_train,cv=skf,estimator=svm,scoring='accuracy')"
   ]
  },
  {
   "cell_type": "code",
   "execution_count": 297,
   "metadata": {},
   "outputs": [
    {
     "data": {
      "text/plain": [
       "0.7600132496942211"
      ]
     },
     "execution_count": 297,
     "metadata": {},
     "output_type": "execute_result"
    }
   ],
   "source": [
    "cross_val_svm.mean()"
   ]
  },
  {
   "cell_type": "code",
   "execution_count": 296,
   "metadata": {},
   "outputs": [
    {
     "data": {
      "text/plain": [
       "0.7774354112348898"
      ]
     },
     "execution_count": 296,
     "metadata": {},
     "output_type": "execute_result"
    }
   ],
   "source": [
    "accuracy_score(y_valid,svm.predict(X_valid))"
   ]
  },
  {
   "cell_type": "markdown",
   "metadata": {},
   "source": [
    "**С помощью `GridSearchCV` подберем параметр `C` для SVM сначала в широком диапазоне: 10 значений от 1e-4 до 1e4. Нарисуем кривые валидации.**"
   ]
  },
  {
   "cell_type": "code",
   "execution_count": 299,
   "metadata": {},
   "outputs": [
    {
     "name": "stdout",
     "output_type": "stream",
     "text": [
      "Wall time: 45.6 s\n"
     ]
    }
   ],
   "source": [
    "%%time\n",
    "svm_params1 = {'C': np.linspace(1e-4, 1e4, 10)}\n",
    "\n",
    "svm_grid_searcher1 = GridSearchCV(estimator=svm,param_grid=svm_params1,cv=skf,n_jobs=-1,scoring='accuracy')\n",
    "svm_grid_searcher1.fit(X_train, y_train)"
   ]
  },
  {
   "cell_type": "markdown",
   "metadata": {},
   "source": [
    "лучшее значение доли правильных ответов на кросс-валидации и соответствующее значение `C`."
   ]
  },
  {
   "cell_type": "code",
   "execution_count": 301,
   "metadata": {},
   "outputs": [
    {
     "data": {
      "text/plain": [
       "0.6923389554968502"
      ]
     },
     "execution_count": 301,
     "metadata": {},
     "output_type": "execute_result"
    }
   ],
   "source": [
    "svm_grid_searcher1.best_score_"
   ]
  },
  {
   "cell_type": "code",
   "execution_count": 305,
   "metadata": {},
   "outputs": [
    {
     "data": {
      "text/plain": [
       "{'C': 2222.2223000000004}"
      ]
     },
     "execution_count": 305,
     "metadata": {},
     "output_type": "execute_result"
    }
   ],
   "source": [
    "svm_grid_searcher1.best_params_"
   ]
  },
  {
   "cell_type": "markdown",
   "metadata": {},
   "source": [
    "график зависимости доли правильных ответов на кросс-валидации от `C`."
   ]
  },
  {
   "cell_type": "code",
   "execution_count": 306,
   "metadata": {},
   "outputs": [
    {
     "data": {
      "image/png": "[encoded data removed]",
      "text/plain": [
       "<Figure size 432x288 with 1 Axes>"
      ]
     },
     "metadata": {
      "needs_background": "light"
     },
     "output_type": "display_data"
    }
   ],
   "source": [
    "plot_validation_curves(svm_params1['C'], svm_grid_searcher1.cv_results_)"
   ]
  },
  {
   "cell_type": "markdown",
   "metadata": {},
   "source": [
    "\n",
    "**С помощью `GridSearchCV` подберем параметр `C` для SVM в диапазоне (1e-3, 1), 30 значений. Нарисуем кривые валидации.**"
   ]
  },
  {
   "cell_type": "code",
   "execution_count": 307,
   "metadata": {},
   "outputs": [
    {
     "name": "stdout",
     "output_type": "stream",
     "text": [
      "Wall time: 1min 38s\n"
     ]
    }
   ],
   "source": [
    "%%time\n",
    "svm_params2 = {'C': np.linspace(1e-3, 1, 30)}\n",
    "\n",
    "svm_grid_searcher2 = GridSearchCV(estimator=svm,param_grid=svm_params2,cv=skf,n_jobs=-1,scoring='accuracy')\n",
    "svm_grid_searcher2.fit(X_train, y_train)"
   ]
  },
  {
   "cell_type": "markdown",
   "metadata": {},
   "source": [
    "Лучшее значение доли правильных ответов на кросс-валидации и соответствующее значение `C`."
   ]
  },
  {
   "cell_type": "code",
   "execution_count": 308,
   "metadata": {},
   "outputs": [
    {
     "name": "stdout",
     "output_type": "stream",
     "text": [
      "0.7711847185531396 {'C': 0.13879310344827586}\n"
     ]
    }
   ],
   "source": [
    "print(svm_grid_searcher2.best_score_,svm_grid_searcher2.best_params_)"
   ]
  },
  {
   "cell_type": "markdown",
   "metadata": {},
   "source": [
    "График зависимости доли правильных ответов на кросс-валидации от С."
   ]
  },
  {
   "cell_type": "code",
   "execution_count": 309,
   "metadata": {},
   "outputs": [
    {
     "data": {
      "image/png": "[encoded data removed]",
      "text/plain": [
       "<Figure size 432x288 with 1 Axes>"
      ]
     },
     "metadata": {
      "needs_background": "light"
     },
     "output_type": "display_data"
    }
   ],
   "source": [
    "plot_validation_curves(svm_params2['C'], svm_grid_searcher2.cv_results_)"
   ]
  },
  {
   "cell_type": "code",
   "execution_count": 316,
   "metadata": {},
   "outputs": [],
   "source": [
    "best_c=svm_grid_searcher2.best_params_['C']"
   ]
  },
  {
   "cell_type": "code",
   "execution_count": 318,
   "metadata": {},
   "outputs": [],
   "source": [
    "svm_best=LinearSVC(C=best_c,random_state=17)"
   ]
  },
  {
   "cell_type": "code",
   "execution_count": 319,
   "metadata": {},
   "outputs": [
    {
     "data": {
      "text/plain": [
       "LinearSVC(C=0.13879310344827586, class_weight=None, dual=True,\n",
       "     fit_intercept=True, intercept_scaling=1, loss='squared_hinge',\n",
       "     max_iter=1000, multi_class='ovr', penalty='l2', random_state=17,\n",
       "     tol=0.0001, verbose=0)"
      ]
     },
     "execution_count": 319,
     "metadata": {},
     "output_type": "execute_result"
    }
   ],
   "source": [
    "svm_best.fit(X_train,y_train)"
   ]
  },
  {
   "cell_type": "code",
   "execution_count": 321,
   "metadata": {},
   "outputs": [],
   "source": [
    "svm_cv_acc = accuracy_score(y_valid,svm_best.predict(X_valid))"
   ]
  },
  {
   "cell_type": "code",
   "execution_count": 323,
   "metadata": {},
   "outputs": [
    {
     "data": {
      "text/plain": [
       "0.782"
      ]
     },
     "execution_count": 323,
     "metadata": {},
     "output_type": "execute_result"
    }
   ],
   "source": [
    "round(svm_cv_acc,3)"
   ]
  },
  {
   "cell_type": "markdown",
   "metadata": {},
   "source": [
    "## Часть 2. Выбор параметров – длины сессии и ширины окна"
   ]
  },
  {
   "cell_type": "markdown",
   "metadata": {},
   "source": [
    "**Возьмем `LinearSVC`, показавший лучшее качество на кросс-валидации в 1 части, и проверим его работу еще на 8 выборках для 10 пользователей (с разными сочетаниями параметров *session_length* и *window_size*). Поскольку тут уже вычислений побольше, мы не будем каждый раз заново подбирать параметр регуляризации `C`.**\n",
    "\n",
    "**Определим функцию `model_assessment`, ее документация описана ниже. "
   ]
  },
  {
   "cell_type": "code",
   "execution_count": 327,
   "metadata": {},
   "outputs": [],
   "source": [
    "def model_assessment(estimator, path_to_X_pickle, path_to_y_pickle, cv, random_state=17, test_size=0.3):\n",
    "    with open(path_to_X_pickle, 'rb') as X_sparse_pkl:\n",
    "        X_sparse = pickle.load(X_sparse_pkl)\n",
    "    with open(path_to_y_pickle, 'rb') as y_pkl:\n",
    "        y = pickle.load(y_pkl)\n",
    "    X_train, X_valid, y_train, y_valid = train_test_split(X_sparse, y, \n",
    "                                                      test_size=test_size, \n",
    "                                                     random_state=random_state, stratify=y)\n",
    "    mean_accuracy_train=cross_val_score(X=X_train,y=y_train,cv=cv,estimator=estimator,scoring='accuracy').mean()\n",
    "    estimator.fit(X_train,y_train)\n",
    "    accuracy_valid=accuracy_score(y_valid,estimator.predict(X_valid))\n",
    "    return mean_accuracy_train,accuracy_valid\n",
    "    '''\n",
    "    Estimates CV-accuracy for (1 - test_size) share of (X_sparse, y) \n",
    "    loaded from path_to_X_pickle and path_to_y_pickle and holdout accuracy for (test_size) share of (X_sparse, y).\n",
    "    The split is made with stratified train_test_split with params random_state and test_size.\n",
    "    \n",
    "    :param estimator – Scikit-learn estimator (classifier or regressor)\n",
    "    :param path_to_X_pickle – path to pickled sparse X (instances and their features)\n",
    "    :param path_to_y_pickle – path to pickled y (responses)\n",
    "    :param cv – cross-validation as in cross_val_score (use StratifiedKFold here)\n",
    "    :param random_state –  for train_test_split\n",
    "    :param test_size –  for train_test_split\n",
    "    \n",
    "    :returns mean CV-accuracy for (X_train, y_train) and accuracy for (X_valid, y_valid) where (X_train, y_train)\n",
    "    and (X_valid, y_valid) are (1 - test_size) and (testsize) shares of (X_sparse, y).\n",
    "    '''\n",
    "    "
   ]
  },
  {
   "cell_type": "markdown",
   "metadata": {},
   "source": [
    "**Убедимся, что функция работает.**"
   ]
  },
  {
   "cell_type": "code",
   "execution_count": 328,
   "metadata": {},
   "outputs": [
    {
     "data": {
      "text/plain": [
       "(0.7711850628759495, 0.7821758710594928)"
      ]
     },
     "execution_count": 328,
     "metadata": {},
     "output_type": "execute_result"
    }
   ],
   "source": [
    "model_assessment(svm_grid_searcher2.best_estimator_, \n",
    "                 os.path.join(PATH_TO_DATA, 'X_sparse_10users.pkl'),\n",
    "        os.path.join(PATH_TO_DATA, 'y_10users.pkl'), skf, random_state=17, test_size=0.3)"
   ]
  },
  {
   "cell_type": "code",
   "execution_count": 335,
   "metadata": {},
   "outputs": [
    {
     "name": "stdout",
     "output_type": "stream",
     "text": [
      "15 10 (0.8217896546706148, 0.8400094809196492)\n",
      "10 10 (0.7711850628759495, 0.7821758710594928)\n",
      "15 7 (0.8470874683536852, 0.8544881367181019)\n",
      "10 7 (0.7975853695418165, 0.8075327692052431)\n",
      "7 7 (0.7544123057721982, 0.7629002820640451)\n",
      "15 5 (0.8689670755674888, 0.8764817449027975)\n",
      "10 5 (0.8179570941042811, 0.8253911806543386)\n",
      "7 5 (0.7753290851849481, 0.7871028923660502)\n",
      "5 5 (0.7267058295650503, 0.7367235656709341)\n",
      "Wall time: 35.4 s\n"
     ]
    }
   ],
   "source": [
    "%%time\n",
    "estimator = svm_grid_searcher2.best_estimator_\n",
    "\n",
    "for window_size, session_length in itertools.product([10, 7, 5], [15, 10, 7, 5]):\n",
    "    if window_size <= session_length:\n",
    "        path_to_X_pkl = os.path.join(PATH_TO_DATA, 'X_sparse_10users_s'+str(session_length)+'_w'+str(window_size)+'.pkl')\n",
    "        path_to_y_pkl = os.path.join(PATH_TO_DATA, 'y_10users_s'+str(session_length)+'_w'+str(window_size)+'.pkl')\n",
    "        print(session_length,window_size,\n",
    "              model_assessment(estimator,path_to_X_pkl,path_to_y_pkl,skf,random_state=17,test_size=0.3))"
   ]
  },
  {
   "cell_type": "code",
   "execution_count": 337,
   "metadata": {},
   "outputs": [
    {
     "name": "stdout",
     "output_type": "stream",
     "text": [
      "0.869 0.876\n"
     ]
    }
   ],
   "source": [
    "print(round(0.8689670755674888,3),round(0.8764817449027975,3))"
   ]
  },
  {
   "cell_type": "code",
   "execution_count": 338,
   "metadata": {},
   "outputs": [
    {
     "name": "stdout",
     "output_type": "stream",
     "text": [
      "5 5 (0.409666167729474, 0.42267727648805176)\n",
      "7 7 (0.43686797191901516, 0.45415062847021154)\n",
      "10 10 (0.4633351827852912, 0.4833600934170194)\n",
      "Wall time: 22min 59s\n"
     ]
    }
   ],
   "source": [
    "%%time\n",
    "estimator = svm_grid_searcher2.best_estimator_\n",
    "\n",
    "for window_size, session_length in [(5,5), (7,7), (10,10)]:\n",
    "    path_to_X_pkl = os.path.join(PATH_TO_DATA, 'X_sparse_150users_s'+str(session_length)+'_w'+str(window_size)+'.pkl')\n",
    "    path_to_y_pkl = os.path.join(PATH_TO_DATA, 'y_150users_s'+str(session_length)+'_w'+str(window_size)+'.pkl')\n",
    "    print(session_length,window_size, \n",
    "              model_assessment(estimator,path_to_X_pkl,path_to_y_pkl,skf,random_state=17,test_size=0.3))"
   ]
  },
  {
   "cell_type": "code",
   "execution_count": 339,
   "metadata": {},
   "outputs": [
    {
     "name": "stdout",
     "output_type": "stream",
     "text": [
      "0.463 0.483\n"
     ]
    }
   ],
   "source": [
    "print(round(0.4633351827852912,3),round(0.4833600934170194,3))"
   ]
  },
  {
   "cell_type": "markdown",
   "metadata": {},
   "source": [
    "## Часть 3. Идентификация  конкретного пользователя и кривые обучения"
   ]
  },
  {
   "cell_type": "markdown",
   "metadata": {},
   "source": [
    "**Поскольку может разочаровать, что многоклассовая доля правильных ответов на выборке из 150 пользовалей невелика, порадуемся тому, что конкретного пользователя можно идентифицировать достаточно хорошо. **"
   ]
  },
  {
   "cell_type": "markdown",
   "metadata": {},
   "source": [
    "**Загрузим сериализованные ранее объекты *X_sparse_150users* и *y_150users*, соответствующие обучающей выборке для 150 пользователей с параметрами (*session_length, window_size*) = (10,10). Так же точно разобьем их на 70% и 30%.**"
   ]
  },
  {
   "cell_type": "code",
   "execution_count": 27,
   "metadata": {},
   "outputs": [],
   "source": [
    "with open(os.path.join(PATH_TO_DATA, 'X_sparse_150users.pkl'), 'rb') as X_sparse_150users_pkl:\n",
    "     X_sparse_150users = pickle.load(X_sparse_150users_pkl)\n",
    "with open(os.path.join(PATH_TO_DATA, 'y_150users.pkl'), 'rb') as y_150users_pkl:\n",
    "    y_150users = pickle.load(y_150users_pkl)"
   ]
  },
  {
   "cell_type": "code",
   "execution_count": 28,
   "metadata": {},
   "outputs": [],
   "source": [
    "X_train_150, X_valid_150, y_train_150, y_valid_150 = train_test_split(X_sparse_150users, \n",
    "                                                                      y_150users, test_size=0.3, \n",
    "                                                     random_state=17, stratify=y_150users)"
   ]
  },
  {
   "cell_type": "markdown",
   "metadata": {},
   "source": [
    "**Обучим `LogisticRegressionCV` для одного значения параметра `C`. Теперь будем решать 150 задач \"Один-против-Всех\", поэтому аргумент `multi_class`='ovr'.**"
   ]
  },
  {
   "cell_type": "code",
   "execution_count": 72,
   "metadata": {},
   "outputs": [
    {
     "name": "stdout",
     "output_type": "stream",
     "text": [
      "Wall time: 6min 13s\n"
     ]
    }
   ],
   "source": [
    "%%time\n",
    "logit_cv_150users = LogisticRegressionCV(Cs=[c_best_best],multi_class='ovr',cv=skf,random_state=17,n_jobs=-1,\n",
    "                                            scoring='accuracy')\n",
    "logit_cv_150users.fit(X_train_150, y_train_150)"
   ]
  },
  {
   "cell_type": "code",
   "execution_count": 73,
   "metadata": {},
   "outputs": [
    {
     "data": {
      "text/plain": [
       "0.9944844753392146"
      ]
     },
     "execution_count": 73,
     "metadata": {},
     "output_type": "execute_result"
    }
   ],
   "source": [
    "logit_cv_150users.scores_['100'].mean()"
   ]
  },
  {
   "cell_type": "markdown",
   "metadata": {},
   "source": [
    "**Посмотрим на средние доли правильных ответов на кросс-валидации в задаче идентификации каждого пользователя по отдельности.**"
   ]
  },
  {
   "cell_type": "code",
   "execution_count": 62,
   "metadata": {},
   "outputs": [
    {
     "name": "stdout",
     "output_type": "stream",
     "text": [
      "User 100, CV score: 0.9946721646157268\n",
      "User 1014, CV score: 0.9971119218290033\n",
      "User 102, CV score: 0.991304590725278\n",
      "User 103, CV score: 0.98072223382175\n",
      "User 1040, CV score: 0.9969242988909531\n",
      "User 105, CV score: 0.9968095234529253\n",
      "User 1054, CV score: 0.9967052416254596\n",
      "User 106, CV score: 0.9946092310445188\n",
      "User 118, CV score: 0.9908145970292673\n",
      "User 119, CV score: 0.9967681180642449\n",
      "User 120, CV score: 0.9943905791196491\n",
      "User 1248, CV score: 0.9978523640316102\n",
      "User 126, CV score: 0.9950890652920861\n",
      "User 1267, CV score: 0.997466351407201\n",
      "User 127, CV score: 0.9917011158463745\n",
      "User 128, CV score: 0.9848093702222966\n",
      "User 1299, CV score: 0.9969869167121207\n",
      "User 13, CV score: 0.9963925985763509\n",
      "User 1371, CV score: 0.9935669977656993\n",
      "User 138, CV score: 0.9971642581529835\n",
      "User 15, CV score: 0.9951729812443751\n",
      "User 158, CV score: 0.9972267016330273\n",
      "User 16, CV score: 0.9920968524906767\n",
      "User 160, CV score: 0.9967263746214964\n",
      "User 165, CV score: 0.9973518529988693\n",
      "User 172, CV score: 0.9965281118239245\n",
      "User 177, CV score: 0.9968408493036597\n",
      "User 1797, CV score: 0.9949433131596184\n",
      "User 1798, CV score: 0.9964343473331893\n",
      "User 1993, CV score: 0.9968722308646766\n",
      "User 203, CV score: 0.9973933140978319\n",
      "User 207, CV score: 0.987738774345523\n",
      "User 2118, CV score: 0.9977584295657471\n",
      "User 2174, CV score: 0.9956001498458865\n",
      "User 2191, CV score: 0.9953501773843721\n",
      "User 223, CV score: 0.9964655739132543\n",
      "User 2250, CV score: 0.9973935920756215\n",
      "User 233, CV score: 0.9964134356565664\n",
      "User 235, CV score: 0.996663606185373\n",
      "User 2355, CV score: 0.996184085791659\n",
      "User 236, CV score: 0.9901470875512702\n",
      "User 237, CV score: 0.989344757350152\n",
      "User 238, CV score: 0.9962989236761993\n",
      "User 240, CV score: 0.9956836706116848\n",
      "User 2408, CV score: 0.9935569085476672\n",
      "User 241, CV score: 0.9960274976285648\n",
      "User 242, CV score: 0.9950057711597914\n",
      "User 245, CV score: 0.9959340760319405\n",
      "User 246, CV score: 0.9970597927783547\n",
      "User 249, CV score: 0.9950057188674117\n",
      "User 2493, CV score: 0.9966220647018661\n",
      "User 252, CV score: 0.9963715459648584\n",
      "User 254, CV score: 0.99229513322628\n",
      "User 256, CV score: 0.9960066276161418\n",
      "User 258, CV score: 0.9957356393672918\n",
      "User 259, CV score: 0.9950372001731447\n",
      "User 260, CV score: 0.9973205469823535\n",
      "User 261, CV score: 0.9896783551622241\n",
      "User 2625, CV score: 0.9959335534826158\n",
      "User 263, CV score: 0.9926183827286558\n",
      "User 264, CV score: 0.9966427884653298\n",
      "User 269, CV score: 0.986852866246184\n",
      "User 270, CV score: 0.9892195023476446\n",
      "User 273, CV score: 0.9942551927608627\n",
      "User 28, CV score: 0.9902412331824141\n",
      "User 287, CV score: 0.9901998999203322\n",
      "User 2902, CV score: 0.9969870009886144\n",
      "User 294, CV score: 0.9957877403257759\n",
      "User 298, CV score: 0.9912421801774416\n",
      "User 301, CV score: 0.9972057574982435\n",
      "User 308, CV score: 0.9957981206195864\n",
      "User 31, CV score: 0.9944740054548209\n",
      "User 315, CV score: 0.9974873991786505\n",
      "User 318, CV score: 0.9959754673745387\n",
      "User 327, CV score: 0.9966220458157409\n",
      "User 33, CV score: 0.993629789927991\n",
      "User 332, CV score: 0.9967156785776458\n",
      "User 333, CV score: 0.9962987313970436\n",
      "User 339, CV score: 0.9969557506823813\n",
      "User 340, CV score: 0.996590644894552\n",
      "User 342, CV score: 0.9921908606048535\n",
      "User 344, CV score: 0.9967471124310422\n",
      "User 351, CV score: 0.9925141478794798\n",
      "User 356, CV score: 0.997560327537264\n",
      "User 361, CV score: 0.9966740382975162\n",
      "User 363, CV score: 0.9964759222229507\n",
      "User 39, CV score: 0.9863423696320767\n",
      "User 411, CV score: 0.9908980141584\n",
      "User 417, CV score: 0.99677839082944\n",
      "User 425, CV score: 0.994192631124024\n",
      "User 430, CV score: 0.9961005533500124\n",
      "User 435, CV score: 0.9971327540691757\n",
      "User 436, CV score: 0.9952040523694415\n",
      "User 440, CV score: 0.9970077010259097\n",
      "User 444, CV score: 0.9978104694998593\n",
      "User 46, CV score: 0.9980817269945064\n",
      "User 475, CV score: 0.9892298124110434\n",
      "User 476, CV score: 0.9970180352895239\n",
      "User 486, CV score: 0.9953289354375797\n",
      "User 49, CV score: 0.9953087482695233\n",
      "User 50, CV score: 0.9944118632046882\n",
      "User 515, CV score: 0.9941509162474867\n",
      "User 53, CV score: 0.9937964968234221\n",
      "User 533, CV score: 0.9938070093201095\n",
      "User 561, CV score: 0.9845071505533386\n",
      "User 563, CV score: 0.9968827336812778\n",
      "User 564, CV score: 0.9956000510492639\n",
      "User 568, CV score: 0.9918257596570674\n",
      "User 569, CV score: 0.9898139245941269\n",
      "User 570, CV score: 0.9982381703307815\n",
      "User 573, CV score: 0.9907416313724502\n",
      "User 575, CV score: 0.99024124817659\n",
      "User 576, CV score: 0.9941926601642822\n",
      "User 580, CV score: 0.9862063681895261\n",
      "User 583, CV score: 0.9805656180405381\n",
      "User 584, CV score: 0.9812850101014613\n",
      "User 6, CV score: 0.9963921699836057\n",
      "User 600, CV score: 0.9916279491784094\n",
      "User 603, CV score: 0.995568890333614\n",
      "User 605, CV score: 0.9974249450704269\n",
      "User 640, CV score: 0.9969659624232042\n",
      "User 647, CV score: 0.997497639011638\n",
      "User 65, CV score: 0.9969243642813215\n",
      "User 653, CV score: 0.99732050437006\n",
      "User 66, CV score: 0.9948288200653765\n",
      "User 664, CV score: 0.9952454955303726\n",
      "User 665, CV score: 0.9969973769164286\n",
      "User 677, CV score: 0.9965695869689696\n",
      "User 692, CV score: 0.9969242892108671\n",
      "User 697, CV score: 0.9958712944978286\n",
      "User 705, CV score: 0.9965385865483615\n",
      "User 722, CV score: 0.9946512432590179\n",
      "User 740, CV score: 0.9967469429299612\n",
      "User 741, CV score: 0.996861775026365\n",
      "User 756, CV score: 0.9957669656920731\n",
      "User 780, CV score: 0.9962882697705955\n",
      "User 784, CV score: 0.9966842074260457\n",
      "User 785, CV score: 0.9968826915430311\n",
      "User 797, CV score: 0.9958088360236089\n",
      "User 812, CV score: 0.9946935523374316\n",
      "User 82, CV score: 0.9962467190810492\n",
      "User 844, CV score: 0.9971013952862336\n",
      "User 85, CV score: 0.9962777717940371\n",
      "User 859, CV score: 0.9982382269891574\n",
      "User 868, CV score: 0.9966531455070186\n",
      "User 875, CV score: 0.9957460206091957\n",
      "User 89, CV score: 0.9906373877912819\n",
      "User 92, CV score: 0.9943388220033698\n",
      "User 932, CV score: 0.990345303844599\n",
      "User 996, CV score: 0.9930355512286718\n"
     ]
    }
   ],
   "source": [
    "cv_scores_by_user = {}\n",
    "for user_id in logit_cv_150users.scores_:\n",
    "    cv_scores_by_user[user_id]=logit_cv_150users.scores_[user_id].mean()\n",
    "    print('User {}, CV score: {}'.format(user_id,logit_cv_150users.scores_[user_id].mean()))"
   ]
  },
  {
   "cell_type": "markdown",
   "metadata": {},
   "source": [
    "**Результаты кажутся впечатляющими, но возможно, мы забываем про дисбаланс классов, и высокую долю правильных ответов можно получить константным прогнозом.**"
   ]
  },
  {
   "cell_type": "code",
   "execution_count": 375,
   "metadata": {},
   "outputs": [
    {
     "data": {
      "text/plain": [
       "2903"
      ]
     },
     "execution_count": 375,
     "metadata": {},
     "output_type": "execute_result"
    }
   ],
   "source": [
    "class_distr = np.bincount(y_train_150.astype('int'))\n",
    "len(class_distr)"
   ]
  },
  {
   "cell_type": "code",
   "execution_count": 74,
   "metadata": {},
   "outputs": [
    {
     "data": {
      "text/plain": [
       "0.9769999895738847"
      ]
     },
     "execution_count": 74,
     "metadata": {},
     "output_type": "execute_result"
    }
   ],
   "source": [
    "len(y_train_150[y_train_150!='103'])/len(y_train_150)"
   ]
  },
  {
   "cell_type": "code",
   "execution_count": 75,
   "metadata": {},
   "outputs": [],
   "source": [
    "class_distr = np.bincount(y_train_150.astype('int'))\n",
    "users_def=[]\n",
    "\n",
    "for user_id in np.unique(y_train_150):\n",
    "    t=len(y_train_150[y_train_150!=user_id])/len(y_train_150)\n",
    "    users_def.append(np.mean(logit_cv_150users.scores_[user_id])-t)"
   ]
  },
  {
   "cell_type": "code",
   "execution_count": 76,
   "metadata": {
    "scrolled": true
   },
   "outputs": [
    {
     "data": {
      "text/plain": [
       "118"
      ]
     },
     "execution_count": 76,
     "metadata": {},
     "output_type": "execute_result"
    }
   ],
   "source": [
    "users_def=np.array(users_def)\n",
    "len(users_def[users_def>0])"
   ]
  },
  {
   "cell_type": "code",
   "execution_count": 81,
   "metadata": {},
   "outputs": [
    {
     "data": {
      "text/plain": [
       "0.813"
      ]
     },
     "execution_count": 81,
     "metadata": {},
     "output_type": "execute_result"
    }
   ],
   "source": [
    "round(122/150,3)"
   ]
  },
  {
   "cell_type": "code",
   "execution_count": 69,
   "metadata": {},
   "outputs": [
    {
     "data": {
      "text/plain": [
       "0.21333333333333337"
      ]
     },
     "execution_count": 69,
     "metadata": {},
     "output_type": "execute_result"
    }
   ],
   "source": [
    "1-118/150"
   ]
  },
  {
   "cell_type": "code",
   "execution_count": 49,
   "metadata": {},
   "outputs": [
    {
     "data": {
      "text/plain": [
       "0.9945053448775908"
      ]
     },
     "execution_count": 49,
     "metadata": {},
     "output_type": "execute_result"
    }
   ],
   "source": [
    "logit_cv_150users.scores_['100'].mean()"
   ]
  },
  {
   "cell_type": "code",
   "execution_count": 50,
   "metadata": {},
   "outputs": [
    {
     "data": {
      "text/plain": [
       "0.9945053448775908"
      ]
     },
     "execution_count": 50,
     "metadata": {},
     "output_type": "execute_result"
    }
   ],
   "source": [
    "np.mean(logit_cv_150users.scores_['100'])"
   ]
  }
 ],
 "metadata": {
  "anaconda-cloud": {},
  "kernelspec": {
   "display_name": "Python 3",
   "language": "python",
   "name": "python3"
  },
  "language_info": {
   "codemirror_mode": {
    "name": "ipython",
    "version": 3
   },
   "file_extension": ".py",
   "mimetype": "text/x-python",
   "name": "python",
   "nbconvert_exporter": "python",
   "pygments_lexer": "ipython3",
   "version": "3.7.3"
  }
 },
 "nbformat": 4,
 "nbformat_minor": 1
}
